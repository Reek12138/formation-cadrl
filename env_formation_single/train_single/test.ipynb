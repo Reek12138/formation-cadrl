{
 "cells": [
  {
   "cell_type": "code",
   "execution_count": 1,
   "metadata": {},
   "outputs": [
    {
     "name": "stdout",
     "output_type": "stream",
     "text": [
      "using device:cuda:0\n"
     ]
    }
   ],
   "source": [
    "import numpy as np\n",
    "import torch\n",
    "import torch.nn as nn\n",
    "import os\n",
    "import time\n",
    "import torch.cuda\n",
    "import sys\n",
    "from numpy import inf\n",
    "import torch.nn.functional as F\n",
    "from numpy import sqrt\n",
    "from math import sin, cos, tan, pi, sqrt, log\n",
    "np.set_printoptions(precision=5, suppress=True)\n",
    "\n",
    "\n",
    "# sys.path.append(os.path.abspath(os.path.join(os.path.dirname(__file__), '..')))\n",
    "sys.path.append(os.path.abspath(os.path.join(os.getcwd(), '..')))\n",
    "\n",
    "from env_formation.env_follow import Custom\n",
    "from env_formation.circle_agent_sac import circle_agent, ReplayBuffer\n",
    "\n",
    "\n",
    "device = torch.device(\"cuda:0\" if torch.cuda.is_available() else \"cpu\")\n",
    "print(f\"using device:{device}\")\n",
    "\n",
    "NUM_EPISODE = 2\n",
    "NUM_STEP = 3\n",
    "MEMORY_SIZE = 100000\n",
    "# BATCH_SIZE = 512\n",
    "BATCH_SIZE = 1024\n",
    "TARGET_UPDATE_INTERVAL= 2\n",
    "RENDER_FREQUENCE = 500\n",
    "RENDER_NUM_EPISODE = 200\n",
    "RENDER_NUM_STEP = 1000\n",
    "BREAK_FLAG = False"
   ]
  },
  {
   "cell_type": "code",
   "execution_count": 2,
   "metadata": {},
   "outputs": [
    {
     "name": "stdout",
     "output_type": "stream",
     "text": [
      "33.44388760090332\n"
     ]
    }
   ],
   "source": [
    "print(np.random.rand()*80)"
   ]
  },
  {
   "cell_type": "code",
   "execution_count": 3,
   "metadata": {},
   "outputs": [
    {
     "name": "stdout",
     "output_type": "stream",
     "text": [
      "<env_formation.env_follow.Custom object at 0x7f65415989b0>\n"
     ]
    }
   ],
   "source": [
    "env = Custom(delta=0.1)\n",
    "print(env)"
   ]
  },
  {
   "cell_type": "code",
   "execution_count": 6,
   "metadata": {},
   "outputs": [
    {
     "name": "stdout",
     "output_type": "stream",
     "text": [
      "[-0.93519 -0.67005]\n",
      "[-1.14554 -0.77219]\n",
      "[-1.06032 -0.85719]\n",
      "[-0.90822 -0.95915]\n",
      "[ 1.36714 -0.60444]\n",
      "[-1.01756 -0.71634]\n"
     ]
    }
   ],
   "source": [
    "env.SAC.replay_buffer.clear()\n",
    "\n",
    "for episode_i in range (NUM_EPISODE):\n",
    "    env.reset()\n",
    "    # for i in range (env.follower_uav_num):\n",
    "        # print(len(env.follower_uavs[f\"follower_{i}\"].observation))\n",
    "\n",
    "    # print(env.SAC.actor)\n",
    "    last_target_dis = []\n",
    "    last_follower_vel = []\n",
    "    for i in range (env.follower_uav_num):\n",
    "        last_target_dis.append(np.linalg.norm(env.target_pos - env.follower_uavs[f\"follower_{i}\"].pos))\n",
    "        last_follower_vel.append(env.follower_uavs[f\"follower_{i}\"].vel)\n",
    "    # print(last_follower_vel)\n",
    "    # print(last_target_dis)\n",
    "    for step_i in range(NUM_STEP):\n",
    "        action = env.SAC.take_action(env.follower_uavs[f\"follower_{i}\"].observation)\n",
    "        noisy_action = action + np.random.normal(0, 0.2, size=action.shape)\n",
    "        print(noisy_action)"
   ]
  },
  {
   "cell_type": "code",
   "execution_count": 7,
   "metadata": {},
   "outputs": [
    {
     "name": "stdout",
     "output_type": "stream",
     "text": [
      "8.6\n"
     ]
    }
   ],
   "source": [
    "import tkinter\n",
    "print(tkinter.TkVersion)\n"
   ]
  }
 ],
 "metadata": {
  "kernelspec": {
   "display_name": "vllm",
   "language": "python",
   "name": "python3"
  },
  "language_info": {
   "codemirror_mode": {
    "name": "ipython",
    "version": 3
   },
   "file_extension": ".py",
   "mimetype": "text/x-python",
   "name": "python",
   "nbconvert_exporter": "python",
   "pygments_lexer": "ipython3",
   "version": "3.12.8"
  }
 },
 "nbformat": 4,
 "nbformat_minor": 2
}
